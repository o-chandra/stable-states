{
 "cells": [
  {
   "cell_type": "code",
   "execution_count": 1,
   "metadata": {},
   "outputs": [],
   "source": [
    "#Model from the 2003 paper \"EFFECTS OF FIRE AND HERBIVORY ON THE STABILITY OF SAVANNA ECOSYSTEMS\"\n",
    "#code modified from: http://systems-sciences.uni-graz.at/etextbook/sw2/phpl_python.html"
   ]
  },
  {
   "cell_type": "code",
   "execution_count": 12,
   "metadata": {},
   "outputs": [],
   "source": [
    "%matplotlib inline\n",
    "\n",
    "from matplotlib import pyplot as plt\n",
    "from mpl_toolkits.mplot3d import Axes3D\n",
    "from matplotlib.colors import cnames\n",
    "from matplotlib import animation\n",
    "\n",
    "import numpy as np\n",
    "from scipy import integrate"
   ]
  },
  {
   "cell_type": "code",
   "execution_count": 13,
   "metadata": {},
   "outputs": [],
   "source": [
    "from ipywidgets import interact, interactive\n",
    "from IPython.display import clear_output, display, HTML"
   ]
  },
  {
   "cell_type": "code",
   "execution_count": 14,
   "metadata": {},
   "outputs": [],
   "source": [
    "#Define parameters\n",
    "u=0.6;\n",
    "rh=1.0;\n",
    "rw=0.5;\n",
    "dh=0.9; dw=0.4;\n",
    "alpha=0.4;\n",
    "beta=300;\n",
    "p=1;\n",
    "kh=0.1; #fire parameters are set to 0 in simplified model below\n",
    "kw=0.01;\n",
    "n=0.1;\n",
    "a=0.5; \n"
   ]
  },
  {
   "cell_type": "code",
   "execution_count": 59,
   "metadata": {},
   "outputs": [],
   "source": [
    "#Three possible scenarios\n",
    "#Scenario A: w_in=250 < beta\n",
    "#Scenario B: w_in=500 > beta\n",
    "#Scenario C: w_in =750 >> beta\n",
    "\n",
    "scenario=\"C\"\n"
   ]
  },
  {
   "cell_type": "code",
   "execution_count": 60,
   "metadata": {},
   "outputs": [
    {
     "name": "stdout",
     "output_type": "stream",
     "text": [
      "Working with scenario C\n",
      "Water in: 700\n",
      "Rate of moisture recharge in grass root zone: 540.0\n",
      "Rate of moisture recharge in tree root zone: 160.0\n"
     ]
    }
   ],
   "source": [
    "#Define scenario and resulting win (water in), ws, wt parameters (rate of water recharge)\n",
    "if (scenario==\"A\"):\n",
    "     win=250\n",
    "elif (scenario==\"B\"):\n",
    "     win=500\n",
    "elif (scenario==\"C\"):\n",
    "        win=700\n",
    "        \n",
    "def ws(alpha,beta,win):\n",
    "    if win>beta:\n",
    "        return alpha*(win-beta)\n",
    "    else:\n",
    "        return 0\n",
    "    \n",
    "ws=ws(alpha,beta,win)\n",
    "wt=win-ws\n",
    "\n",
    "print(\"Working with scenario \"+str(scenario))\n",
    "print(\"Water in: \"+str(win))\n",
    "print(\"Rate of moisture recharge in grass root zone: \"+str(wt))\n",
    "print(\"Rate of moisture recharge in tree root zone: \"+str(ws))"
   ]
  },
  {
   "cell_type": "code",
   "execution_count": 61,
   "metadata": {},
   "outputs": [],
   "source": [
    "#Define simplified model\n",
    "def H_dot(H,W):\n",
    "    return rh*wt*(H)/(H+u*W+p*ws)-dh*H\n",
    "def W_dot(H,W):\n",
    "    return rw*(wt*(u*W)/(H+u*W+p*ws)+ws)-dw*W\n",
    "\n",
    "#Define function to compute the state of the system at different time steps\n",
    "#iv1, iv2 = initial values, dt = timestep, time = range\n",
    "def sys(iv1, iv2, dt, time):\n",
    "    # initial values:\n",
    "    h.append(iv1)\n",
    "    w.append(iv2)\n",
    "    # compute and fill lists\n",
    "    for i in range(time):\n",
    "        h.append(h[i] + (H_dot(h[i],w[i])) * dt) #taylor series approximation truncated after linear terms\n",
    "        w.append(w[i] + (W_dot(h[i],w[i])) * dt)\n",
    "    return h, w\n"
   ]
  },
  {
   "cell_type": "code",
   "execution_count": 66,
   "metadata": {},
   "outputs": [],
   "source": [
    "# initialize lists containing values\n",
    "h = []\n",
    "w = []\n",
    "sys(500, 1000, 0.1, 10000); #initializing with initial values for H,W, time step .1 years, 1000 years"
   ]
  },
  {
   "cell_type": "code",
   "execution_count": 67,
   "metadata": {},
   "outputs": [
    {
     "data": {
      "image/png": "[encoded data removed]",
      "text/plain": [
       "<Figure size 1080x360 with 2 Axes>"
      ]
     },
     "metadata": {
      "needs_background": "light"
     },
     "output_type": "display_data"
    }
   ],
   "source": [
    "fig = plt.figure(figsize=(15,5))\n",
    "fig.subplots_adjust(wspace = 0.5, hspace = 0.3)\n",
    "ax1 = fig.add_subplot(1,2,1)\n",
    "ax2 = fig.add_subplot(1,2,2)\n",
    "\n",
    "ax1.plot(h, 'r-', label='grass')\n",
    "ax1.plot(w, 'b-', label='wood')\n",
    "ax1.set_title(\"Dynamics in time, scenario \"+str(scenario))\n",
    "ax1.set_xlabel(\"time\")\n",
    "ax1.grid()\n",
    "ax1.legend(loc='best')\n",
    "\n",
    "ax2.plot(h, w, color=\"blue\")\n",
    "ax2.set_xlabel(\"h\")\n",
    "ax2.set_ylabel(\"w\")  \n",
    "ax2.set_title(\"Phase space, scenario \"+str(scenario))\n",
    "ax2.grid()"
   ]
  },
  {
   "cell_type": "code",
   "execution_count": 48,
   "metadata": {},
   "outputs": [
    {
     "data": {
      "text/plain": [
       "51"
      ]
     },
     "execution_count": 48,
     "metadata": {},
     "output_type": "execute_result"
    }
   ],
   "source": [
    "#brute force method--find w nullclines\n",
    "null_w=[]    \n",
    "def find_w_nullclines(h_init,w_init):\n",
    "    for h in range(h_init,0,-1):\n",
    "        for w in range(w_init,0,-1):\n",
    "            if (abs(W_dot(h,w)) < 10**(-2)):\n",
    "                #print((h,w))\n",
    "                null_w.append(w)\n",
    "    return len(null_w)\n",
    "\n",
    "find_w_nullclines(500,500)"
   ]
  },
  {
   "cell_type": "code",
   "execution_count": 52,
   "metadata": {},
   "outputs": [
    {
     "data": {
      "text/plain": [
       "270"
      ]
     },
     "execution_count": 52,
     "metadata": {},
     "output_type": "execute_result"
    }
   ],
   "source": [
    "#checking brute force method--find h nullclines\n",
    "null_h=[]\n",
    "\n",
    "def find_h_nullclines(h_init,w_init):\n",
    "    for h in range(h_init,0,-1):\n",
    "        for w in range(w_init,0,-1):\n",
    "            if (abs(H_dot(h,w)) < 10**(-1)):\n",
    "                #print((h,w))\n",
    "                null_h.append(h)\n",
    "    return len(null_h)\n",
    "           \n",
    "find_h_nullclines(500,500)"
   ]
  },
  {
   "cell_type": "code",
   "execution_count": 53,
   "metadata": {},
   "outputs": [
    {
     "data": {
      "text/plain": [
       "[<matplotlib.lines.Line2D at 0x1206aec90>]"
      ]
     },
     "execution_count": 53,
     "metadata": {},
     "output_type": "execute_result"
    },
    {
     "data": {
      "image/png": "[encoded data removed]",
      "text/plain": [
       "<Figure size 1080x360 with 1 Axes>"
      ]
     },
     "metadata": {
      "needs_background": "light"
     },
     "output_type": "display_data"
    }
   ],
   "source": [
    "#plot nullclines \n",
    "\n",
    "fig = plt.figure(figsize=(15,5))\n",
    "fig.subplots_adjust(wspace = 0.1, hspace = 0.3)\n",
    "ax3 = fig.add_subplot(1,2,1)\n",
    "\n",
    "ax3.plot(null_h, 'r-', label='h nullcline')\n",
    "ax3.plot(null_w, 'b-', label='w nullcline')"
   ]
  },
  {
   "cell_type": "code",
   "execution_count": 56,
   "metadata": {},
   "outputs": [
    {
     "name": "stdout",
     "output_type": "stream",
     "text": [
      "[0.0, 386.666666666667 - 0.6*y]\n",
      "[-0.833333333333333*x - 0.833333333333333*sqrt(x**2 - 350.0*x + 106225.0) + 245.833333333333, -0.833333333333333*x + 0.833333333333333*sqrt(x**2 - 350.0*x + 106225.0) + 245.833333333333]\n",
      "[(7.74518382969864e-121, 517.434808128871), (202.051282051282, 307.692307692308)]\n"
     ]
    }
   ],
   "source": [
    "#finding fixed points symbolically\n",
    "import sympy as sm\n",
    "# define the system in this way--assuming positive phase space only\n",
    "# to avoid interference h= x (grass) and w = y (wood) \n",
    "x, y = sm.symbols('x, y', negative=False)\n",
    "xdot = rh*wt*(x)/(x+u*y+p*ws)-dh*x\n",
    "ydot = rw*(wt*(u*y)/(x+u*y+p*ws)+ws)-dw*y\n",
    "\n",
    "# use sympy's way of setting equations to zero\n",
    "xdotEqual = sm.Eq(xdot, 0)\n",
    "ydotEqual = sm.Eq(ydot, 0)\n",
    "\n",
    "# compute fixed points\n",
    "null_h_dot= sm.solve(xdotEqual,x)\n",
    "null_w_dot=sm.solve(ydotEqual,y)\n",
    "equilibria = sm.solve( (xdotEqual, ydotEqual), x, y )\n",
    "print(null_h_dot)\n",
    "print(null_w_dot)\n",
    "print(equilibria)"
   ]
  },
  {
   "cell_type": "code",
   "execution_count": 68,
   "metadata": {},
   "outputs": [
    {
     "data": {
      "image/png": "[encoded data removed]",
      "text/plain": [
       "<Figure size 432x288 with 1 Axes>"
      ]
     },
     "metadata": {
      "needs_background": "light"
     },
     "output_type": "display_data"
    }
   ],
   "source": [
    "#plot nullclines--this is just way better in desmos, honestly\n",
    "from sympy.plotting import plot\n",
    "p1=plot(277.777777777778 - 0.6*y,line_color='r', show=False)\n",
    "p2=plot(312.5 - 1.66666666666667*x,line_color='b', show=False)\n",
    "p1.append(p2[0])\n",
    "p1\n",
    "p1.show()"
   ]
  },
  {
   "cell_type": "code",
   "execution_count": null,
   "metadata": {},
   "outputs": [],
   "source": []
  }
 ],
 "metadata": {
  "kernelspec": {
   "display_name": "Python 3",
   "language": "python",
   "name": "python3"
  },
  "language_info": {
   "codemirror_mode": {
    "name": "ipython",
    "version": 3
   },
   "file_extension": ".py",
   "mimetype": "text/x-python",
   "name": "python",
   "nbconvert_exporter": "python",
   "pygments_lexer": "ipython3",
   "version": "3.7.4"
  }
 },
 "nbformat": 4,
 "nbformat_minor": 2
}
